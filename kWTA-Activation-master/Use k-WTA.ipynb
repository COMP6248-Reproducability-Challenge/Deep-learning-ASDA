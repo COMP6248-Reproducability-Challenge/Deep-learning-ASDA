{
 "cells": [
  {
   "cell_type": "markdown",
   "metadata": {},
   "source": [
    "For all k-wta network, we just adjust the ResNet18, if you want to use, please add code in follow block to the SparseResNet Class __init__ funciton in kWTA/resnet.py and replace the relu with sp in forwar function. Then use the sparseresnet."
   ]
  },
  {
   "cell_type": "code",
   "execution_count": null,
   "metadata": {},
   "outputs": [],
   "source": [
    "self.sp = models.sparse_func_dict[sparse_func](sparsities[0])"
   ]
  },
  {
   "cell_type": "markdown",
   "metadata": {},
   "source": [
    "For speed up but failed k-wta, please add code follow to kWTA/models.py and add a name in dict to call."
   ]
  },
  {
   "cell_type": "code",
   "execution_count": null,
   "metadata": {},
   "outputs": [],
   "source": [
    "class Sparsify2D_spvol(SparsifyBase):\n",
    "    def __init__(self, sparse_ratio=0.5, sample_rate=0.1):\n",
    "        super(Sparsify2D_spvol, self).__init__()\n",
    "        self.sr = sparse_ratio\n",
    "        self.relu = nn.ReLU()\n",
    "        self.sr2 = sample_rate\n",
    "    def forward(self, x):\n",
    "        size = x.shape[1]*x.shape[2]*x.shape[3]\n",
    "        temp = torch.randint(size,(1,int(self.sr2*size)),device=x.device)\n",
    "        tmpx = x.view(x.shape[0], -1)\n",
    "        realt = tmpx[[0],temp[0]]\n",
    "        k = int(0.2*realt.shape[0])\n",
    "        topval = realt.topk(k, dim=0)[0][-1]\n",
    "        return self.relu(x-topval)"
   ]
  },
  {
   "cell_type": "markdown",
   "metadata": {},
   "source": [
    "Sample: Prepare the data"
   ]
  },
  {
   "cell_type": "code",
   "execution_count": null,
   "metadata": {},
   "outputs": [],
   "source": [
    "import torch\n",
    "import torch.nn as nn\n",
    "import torch.nn.functional as F\n",
    "import torch.optim as optim\n",
    "from torch.optim import lr_scheduler\n",
    "from torchvision import datasets, transforms\n",
    "from torch.utils.data import DataLoader\n",
    "import torchvision\n",
    "import numpy as np\n",
    "import json\n",
    "import time\n",
    "import sys\n",
    "import copy\n",
    "\n",
    "from kWTA import models\n",
    "from kWTA import activation\n",
    "from kWTA import attack\n",
    "from kWTA import training\n",
    "from kWTA import utilities\n",
    "from kWTA import densenet\n",
    "from kWTA import resnet\n",
    "from kWTA import wideresnet\n",
    "norm_mean = 0\n",
    "norm_var = 1\n",
    "transform_train = transforms.Compose([\n",
    "    transforms.RandomCrop(32, padding=4),\n",
    "    transforms.RandomHorizontalFlip(),\n",
    "    transforms.ToTensor(),\n",
    "    transforms.Normalize((norm_mean,norm_mean,norm_mean), (norm_var, norm_var, norm_var)),\n",
    "])\n",
    "\n",
    "transform_test = transforms.Compose([\n",
    "    transforms.ToTensor(),\n",
    "    transforms.Normalize((norm_mean,norm_mean,norm_mean), (norm_var, norm_var, norm_var)),\n",
    "])\n",
    "cifar_train = datasets.CIFAR10(\"./data\", train=True, download=True, transform=transform_train)\n",
    "cifar_test = datasets.CIFAR10(\"./data\", train=False, download=True, transform=transform_test)\n",
    "train_loader = DataLoader(cifar_train, batch_size = 256, shuffle=True)\n",
    "test_loader = DataLoader(cifar_test, batch_size = 100, shuffle=True)"
   ]
  },
  {
   "cell_type": "markdown",
   "metadata": {},
   "source": [
    "Feed the data to model"
   ]
  },
  {
   "cell_type": "code",
   "execution_count": null,
   "metadata": {},
   "outputs": [],
   "source": [
    "device = torch.device('cuda:0')\n",
    "model = resnet.SparseResNet18(sparsities=[0.1,0.1,0.1,0.1], sparse_func='vol').to(device)\n",
    "opt = optim.SGD(model.parameters(), lr=0.1, momentum=0.9)\n",
    "eps = 0.031\n",
    "epochs = 80\n",
    "hist = torch.zeros((6,epochs))\n",
    "for ep in range(epochs):\n",
    "    if ep == 50:\n",
    "        for param_group in opt.param_groups:\n",
    "                param_group['lr'] = 0.01\n",
    "    train_err, train_loss = training.epoch(train_loader, model, opt, device=device, use_tqdm=True)\n",
    "    test_err, test_loss = training.epoch(test_loader, model, device=device, use_tqdm=True)\n",
    "    adv_err, adv_loss = training.epoch_adversarial(test_loader,\n",
    "        model, attack=attack.pgd_linf_untargeted, device=device, num_iter=20, \n",
    "        use_tqdm=True, epsilon=eps, randomize=True, alpha=0.003, n_test=1000)\n",
    "    hist[0][ep]=train_loss\n",
    "    hist[1][ep]=train_err\n",
    "    hist[2][ep]=test_loss\n",
    "    hist[3][ep]=test_err\n",
    "    hist[4][ep]=adv_loss\n",
    "    hist[5][ep]=adv_err\n",
    "    print('epoch', ep, 'train err', train_err, 'test err', test_err, 'adv_err', adv_err, \"train_loss\", train_loss)\n",
    "    torch.save(model.state_dict(), 'models/spresnet18_01_cifar_{}epoch.pth'.format(ep))"
   ]
  },
  {
   "cell_type": "markdown",
   "metadata": {},
   "source": [
    "Then use them to plot the curves"
   ]
  },
  {
   "cell_type": "code",
   "execution_count": null,
   "metadata": {},
   "outputs": [],
   "source": [
    "import matplotlib.pyplot as plt\n",
    "fig, ax = plt.subplots(nrows=1, ncols=2, figsize=(10,5))\n",
    "ax[0].plot(hist[0],label = 'train_loss',linestyle=':')\n",
    "ax[0].plot(hist[2], label = 'test_loss',linestyle='--')\n",
    "ax[0].plot(hist[4], label = 'adv_loss')\n",
    "ax[0].legend(loc = 'mid right')\n",
    "ax[0].grid(True)\n",
    "ax[0].set_title(\"All k-WTA 0.2\", fontsize=14)\n",
    "ax[1].plot(1-hist[1],label = 'train_acc',linestyle=':')\n",
    "ax[1].plot(1-hist[3], label = 'test_acc',linestyle='--')\n",
    "ax[1].plot(1-hist[5], label = 'adv_acc',linestyle='-.')\n",
    "ax[1].legend(loc = 'mid right')\n",
    "ax[1].grid(True)\n",
    "ax[1].set_title(\"CIFAR10 80epochs\", fontsize=14)"
   ]
  },
  {
   "cell_type": "markdown",
   "metadata": {},
   "source": [
    "Then add code in follow block to the kWTA/attack.py, which can provide the ability to attack via C&W and MIM."
   ]
  },
  {
   "cell_type": "code",
   "execution_count": null,
   "metadata": {},
   "outputs": [],
   "source": [
    "from advertorch.attacks import CarliniWagnerL2Attack\n",
    "def CW(model,X,y,num_class=10,num_iter=10):\n",
    "    adversary = CarliniWagnerL2Attack(model, loss_fn=nn.CrossEntropyLoss(reduction=\"sum\"),num_classes=num_class,confidence=0, targeted=False, learning_rate=0.01, binary_search_steps=5, max_iterations=20, abort_early=True, initial_const=0.001, clip_min=0.0, clip_max=1.0)\n",
    "    adv_untargeted = adversary.perturb(X, y)-X\n",
    "    return adv_untargeted\n",
    "\n",
    "\n",
    "from advertorch.attacks import MomentumIterativeAttack\n",
    "def MIM(model,X,y,num_iter=10):\n",
    "    adversary = MomentumIterativeAttack(model, loss_fn=nn.CrossEntropyLoss(reduction=\"sum\"), eps=0.3, nb_iter=10, decay_factor=1.0, eps_iter=0.003, clip_min=0.0, clip_max=1.0)\n",
    "    adv_untargeted = adversary.perturb(X, y)-X\n",
    "    return adv_untargeted"
   ]
  }
 ],
 "metadata": {
  "kernelspec": {
   "display_name": "Python 3",
   "language": "python",
   "name": "python3"
  },
  "language_info": {
   "codemirror_mode": {
    "name": "ipython",
    "version": 3
   },
   "file_extension": ".py",
   "mimetype": "text/x-python",
   "name": "python",
   "nbconvert_exporter": "python",
   "pygments_lexer": "ipython3",
   "version": "3.7.6"
  }
 },
 "nbformat": 4,
 "nbformat_minor": 4
}
